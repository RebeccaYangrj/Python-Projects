{
 "cells": [
  {
   "cell_type": "markdown",
   "id": "ccd1be8d",
   "metadata": {},
   "source": [
    "## 1. Overview of the dataframe"
   ]
  },
  {
   "cell_type": "code",
   "execution_count": 45,
   "id": "03a502a8",
   "metadata": {},
   "outputs": [],
   "source": [
    "import pandas\n",
    "from datetime import datetime\n",
    "from pytz import utc\n",
    "data = pandas.read_csv(\"reviews.csv\", parse_dates=[\"Timestamp\"])"
   ]
  },
  {
   "cell_type": "code",
   "execution_count": 7,
   "id": "e9972fa5",
   "metadata": {},
   "outputs": [
    {
     "data": {
      "text/html": [
       "<div>\n",
       "<style scoped>\n",
       "    .dataframe tbody tr th:only-of-type {\n",
       "        vertical-align: middle;\n",
       "    }\n",
       "\n",
       "    .dataframe tbody tr th {\n",
       "        vertical-align: top;\n",
       "    }\n",
       "\n",
       "    .dataframe thead th {\n",
       "        text-align: right;\n",
       "    }\n",
       "</style>\n",
       "<table border=\"1\" class=\"dataframe\">\n",
       "  <thead>\n",
       "    <tr style=\"text-align: right;\">\n",
       "      <th></th>\n",
       "      <th>Course Name</th>\n",
       "      <th>Timestamp</th>\n",
       "      <th>Rating</th>\n",
       "      <th>Comment</th>\n",
       "    </tr>\n",
       "  </thead>\n",
       "  <tbody>\n",
       "    <tr>\n",
       "      <th>0</th>\n",
       "      <td>The Python Mega Course: Build 10 Real World Ap...</td>\n",
       "      <td>2021-04-02 06:25:52+00:00</td>\n",
       "      <td>4.0</td>\n",
       "      <td>NaN</td>\n",
       "    </tr>\n",
       "    <tr>\n",
       "      <th>1</th>\n",
       "      <td>The Python Mega Course: Build 10 Real World Ap...</td>\n",
       "      <td>2021-04-02 05:12:34+00:00</td>\n",
       "      <td>4.0</td>\n",
       "      <td>NaN</td>\n",
       "    </tr>\n",
       "    <tr>\n",
       "      <th>2</th>\n",
       "      <td>The Python Mega Course: Build 10 Real World Ap...</td>\n",
       "      <td>2021-04-02 05:11:03+00:00</td>\n",
       "      <td>4.0</td>\n",
       "      <td>NaN</td>\n",
       "    </tr>\n",
       "    <tr>\n",
       "      <th>3</th>\n",
       "      <td>The Python Mega Course: Build 10 Real World Ap...</td>\n",
       "      <td>2021-04-02 03:33:24+00:00</td>\n",
       "      <td>5.0</td>\n",
       "      <td>NaN</td>\n",
       "    </tr>\n",
       "    <tr>\n",
       "      <th>4</th>\n",
       "      <td>The Python Mega Course: Build 10 Real World Ap...</td>\n",
       "      <td>2021-04-02 03:31:49+00:00</td>\n",
       "      <td>4.5</td>\n",
       "      <td>NaN</td>\n",
       "    </tr>\n",
       "  </tbody>\n",
       "</table>\n",
       "</div>"
      ],
      "text/plain": [
       "                                         Course Name  \\\n",
       "0  The Python Mega Course: Build 10 Real World Ap...   \n",
       "1  The Python Mega Course: Build 10 Real World Ap...   \n",
       "2  The Python Mega Course: Build 10 Real World Ap...   \n",
       "3  The Python Mega Course: Build 10 Real World Ap...   \n",
       "4  The Python Mega Course: Build 10 Real World Ap...   \n",
       "\n",
       "                   Timestamp  Rating Comment  \n",
       "0  2021-04-02 06:25:52+00:00     4.0     NaN  \n",
       "1  2021-04-02 05:12:34+00:00     4.0     NaN  \n",
       "2  2021-04-02 05:11:03+00:00     4.0     NaN  \n",
       "3  2021-04-02 03:33:24+00:00     5.0     NaN  \n",
       "4  2021-04-02 03:31:49+00:00     4.5     NaN  "
      ]
     },
     "execution_count": 7,
     "metadata": {},
     "output_type": "execute_result"
    }
   ],
   "source": [
    "data.head()"
   ]
  },
  {
   "cell_type": "code",
   "execution_count": 8,
   "id": "b2a61868",
   "metadata": {},
   "outputs": [
    {
     "data": {
      "text/plain": [
       "(45000, 4)"
      ]
     },
     "execution_count": 8,
     "metadata": {},
     "output_type": "execute_result"
    }
   ],
   "source": [
    "data.shape"
   ]
  },
  {
   "cell_type": "code",
   "execution_count": 12,
   "id": "8c39109e",
   "metadata": {},
   "outputs": [
    {
     "data": {
      "text/plain": [
       "Index(['Course Name', 'Timestamp', 'Rating', 'Comment'], dtype='object')"
      ]
     },
     "execution_count": 12,
     "metadata": {},
     "output_type": "execute_result"
    }
   ],
   "source": [
    "data.columns"
   ]
  },
  {
   "cell_type": "code",
   "execution_count": 13,
   "id": "1da5e92e",
   "metadata": {},
   "outputs": [
    {
     "data": {
      "text/plain": [
       "array([[<AxesSubplot:title={'center':'Rating'}>]], dtype=object)"
      ]
     },
     "execution_count": 13,
     "metadata": {},
     "output_type": "execute_result"
    },
    {
     "data": {
      "image/png": "[encoded data removed]",
      "text/plain": [
       "<Figure size 432x288 with 1 Axes>"
      ]
     },
     "metadata": {
      "needs_background": "light"
     },
     "output_type": "display_data"
    }
   ],
   "source": [
    "data.hist(\"Rating\")"
   ]
  },
  {
   "cell_type": "markdown",
   "id": "28973009",
   "metadata": {},
   "source": [
    "## 2. Selecting data from dataframe"
   ]
  },
  {
   "cell_type": "markdown",
   "id": "2f8e7453",
   "metadata": {},
   "source": [
    "### selecting a column and multiple colunms"
   ]
  },
  {
   "cell_type": "code",
   "execution_count": 14,
   "id": "5390eb9d",
   "metadata": {},
   "outputs": [
    {
     "data": {
      "text/plain": [
       "pandas.core.series.Series"
      ]
     },
     "execution_count": 14,
     "metadata": {},
     "output_type": "execute_result"
    }
   ],
   "source": [
    "type(data[\"Rating\"])"
   ]
  },
  {
   "cell_type": "code",
   "execution_count": 17,
   "id": "bd2051b1",
   "metadata": {},
   "outputs": [
    {
     "data": {
      "text/plain": [
       "pandas.core.frame.DataFrame"
      ]
     },
     "execution_count": 17,
     "metadata": {},
     "output_type": "execute_result"
    }
   ],
   "source": [
    "type(data[[\"Rating\"],\"Comment\"])"
   ]
  },
  {
   "cell_type": "markdown",
   "id": "d08b8f7c",
   "metadata": {},
   "source": [
    "### Selecting a row and multiple rows"
   ]
  },
  {
   "cell_type": "code",
   "execution_count": 19,
   "id": "91002c63",
   "metadata": {},
   "outputs": [
    {
     "data": {
      "text/plain": [
       "pandas.core.series.Series"
      ]
     },
     "execution_count": 19,
     "metadata": {},
     "output_type": "execute_result"
    }
   ],
   "source": [
    "type(data.iloc[3])"
   ]
  },
  {
   "cell_type": "code",
   "execution_count": 21,
   "id": "1c9df7d8",
   "metadata": {},
   "outputs": [
    {
     "data": {
      "text/plain": [
       "pandas.core.frame.DataFrame"
      ]
     },
     "execution_count": 21,
     "metadata": {},
     "output_type": "execute_result"
    }
   ],
   "source": [
    "type(data.iloc[1:5])"
   ]
  },
  {
   "cell_type": "markdown",
   "id": "93bce6d4",
   "metadata": {},
   "source": [
    "### Select a section "
   ]
  },
  {
   "cell_type": "code",
   "execution_count": 27,
   "id": "60e8e837",
   "metadata": {},
   "outputs": [
    {
     "data": {
      "text/html": [
       "<div>\n",
       "<style scoped>\n",
       "    .dataframe tbody tr th:only-of-type {\n",
       "        vertical-align: middle;\n",
       "    }\n",
       "\n",
       "    .dataframe tbody tr th {\n",
       "        vertical-align: top;\n",
       "    }\n",
       "\n",
       "    .dataframe thead th {\n",
       "        text-align: right;\n",
       "    }\n",
       "</style>\n",
       "<table border=\"1\" class=\"dataframe\">\n",
       "  <thead>\n",
       "    <tr style=\"text-align: right;\">\n",
       "      <th></th>\n",
       "      <th>Rating</th>\n",
       "      <th>Comment</th>\n",
       "    </tr>\n",
       "  </thead>\n",
       "  <tbody>\n",
       "    <tr>\n",
       "      <th>1</th>\n",
       "      <td>4.0</td>\n",
       "      <td>NaN</td>\n",
       "    </tr>\n",
       "    <tr>\n",
       "      <th>2</th>\n",
       "      <td>4.0</td>\n",
       "      <td>NaN</td>\n",
       "    </tr>\n",
       "  </tbody>\n",
       "</table>\n",
       "</div>"
      ],
      "text/plain": [
       "   Rating Comment\n",
       "1     4.0     NaN\n",
       "2     4.0     NaN"
      ]
     },
     "execution_count": 27,
     "metadata": {},
     "output_type": "execute_result"
    }
   ],
   "source": [
    "data[[\"Rating\",\"Comment\"]].iloc[1:3]"
   ]
  },
  {
   "cell_type": "markdown",
   "id": "9687f524",
   "metadata": {},
   "source": [
    "### Select a cell"
   ]
  },
  {
   "cell_type": "code",
   "execution_count": 28,
   "id": "2a4290d2",
   "metadata": {},
   "outputs": [
    {
     "data": {
      "text/plain": [
       "4.5"
      ]
     },
     "execution_count": 28,
     "metadata": {},
     "output_type": "execute_result"
    }
   ],
   "source": [
    "data[\"Rating\"].iloc[6]"
   ]
  },
  {
   "cell_type": "code",
   "execution_count": 29,
   "id": "9ab0773a",
   "metadata": {},
   "outputs": [
    {
     "data": {
      "text/plain": [
       "4.0"
      ]
     },
     "execution_count": 29,
     "metadata": {},
     "output_type": "execute_result"
    }
   ],
   "source": [
    "data.at[2,\"Rating\"]"
   ]
  },
  {
   "cell_type": "markdown",
   "id": "7002cd19",
   "metadata": {},
   "source": [
    "## 3. Filtering data based on conditions"
   ]
  },
  {
   "cell_type": "markdown",
   "id": "11e88478",
   "metadata": {},
   "source": [
    "### One condition"
   ]
  },
  {
   "cell_type": "code",
   "execution_count": 35,
   "id": "dd5cad51",
   "metadata": {},
   "outputs": [
    {
     "data": {
      "text/plain": [
       "4.87316015861281"
      ]
     },
     "execution_count": 35,
     "metadata": {},
     "output_type": "execute_result"
    }
   ],
   "source": [
    "d2=data[data[\"Rating\"]>4]\n",
    "d2[\"Rating\"].mean()"
   ]
  },
  {
   "cell_type": "markdown",
   "id": "510998f9",
   "metadata": {},
   "source": [
    "### Multiple conditions"
   ]
  },
  {
   "cell_type": "code",
   "execution_count": 37,
   "id": "0a5d3f43",
   "metadata": {},
   "outputs": [
    {
     "data": {
      "text/html": [
       "<div>\n",
       "<style scoped>\n",
       "    .dataframe tbody tr th:only-of-type {\n",
       "        vertical-align: middle;\n",
       "    }\n",
       "\n",
       "    .dataframe tbody tr th {\n",
       "        vertical-align: top;\n",
       "    }\n",
       "\n",
       "    .dataframe thead th {\n",
       "        text-align: right;\n",
       "    }\n",
       "</style>\n",
       "<table border=\"1\" class=\"dataframe\">\n",
       "  <thead>\n",
       "    <tr style=\"text-align: right;\">\n",
       "      <th></th>\n",
       "      <th>Course Name</th>\n",
       "      <th>Timestamp</th>\n",
       "      <th>Rating</th>\n",
       "      <th>Comment</th>\n",
       "    </tr>\n",
       "  </thead>\n",
       "  <tbody>\n",
       "    <tr>\n",
       "      <th>11</th>\n",
       "      <td>The Python Mega Course: Build 10 Real World Ap...</td>\n",
       "      <td>2021-04-01 15:25:18+00:00</td>\n",
       "      <td>5.0</td>\n",
       "      <td>No</td>\n",
       "    </tr>\n",
       "    <tr>\n",
       "      <th>19</th>\n",
       "      <td>100 Python Exercises I: Evaluate and Improve Y...</td>\n",
       "      <td>2021-04-01 08:47:42+00:00</td>\n",
       "      <td>4.5</td>\n",
       "      <td>Excellent set of practical problems.  Thank you!</td>\n",
       "    </tr>\n",
       "    <tr>\n",
       "      <th>22</th>\n",
       "      <td>The Python Mega Course: Build 10 Real World Ap...</td>\n",
       "      <td>2021-04-01 05:47:51+00:00</td>\n",
       "      <td>5.0</td>\n",
       "      <td>Great course.</td>\n",
       "    </tr>\n",
       "    <tr>\n",
       "      <th>60</th>\n",
       "      <td>Python for Beginners with Examples</td>\n",
       "      <td>2021-03-31 07:21:59+00:00</td>\n",
       "      <td>5.0</td>\n",
       "      <td>really enjoying it so far</td>\n",
       "    </tr>\n",
       "    <tr>\n",
       "      <th>87</th>\n",
       "      <td>The Python Mega Course: Build 10 Real World Ap...</td>\n",
       "      <td>2021-03-30 07:43:37+00:00</td>\n",
       "      <td>4.5</td>\n",
       "      <td>Well explained . Straight to the point !</td>\n",
       "    </tr>\n",
       "    <tr>\n",
       "      <th>...</th>\n",
       "      <td>...</td>\n",
       "      <td>...</td>\n",
       "      <td>...</td>\n",
       "      <td>...</td>\n",
       "    </tr>\n",
       "    <tr>\n",
       "      <th>44947</th>\n",
       "      <td>Python for Beginners with Examples</td>\n",
       "      <td>2018-01-02 03:54:17+00:00</td>\n",
       "      <td>4.5</td>\n",
       "      <td>This course is amazing ! it teaches me very us...</td>\n",
       "    </tr>\n",
       "    <tr>\n",
       "      <th>44951</th>\n",
       "      <td>The Python Mega Course: Build 10 Real World Ap...</td>\n",
       "      <td>2018-01-02 02:05:52+00:00</td>\n",
       "      <td>4.5</td>\n",
       "      <td>Clear, concise and compact modules so far.</td>\n",
       "    </tr>\n",
       "    <tr>\n",
       "      <th>44954</th>\n",
       "      <td>Data Processing with Python</td>\n",
       "      <td>2018-01-01 23:36:07+00:00</td>\n",
       "      <td>4.5</td>\n",
       "      <td>might have had a mac installation tutorial also</td>\n",
       "    </tr>\n",
       "    <tr>\n",
       "      <th>44957</th>\n",
       "      <td>The Python Mega Course: Build 10 Real World Ap...</td>\n",
       "      <td>2018-01-01 21:35:13+00:00</td>\n",
       "      <td>5.0</td>\n",
       "      <td>i like how thorough it is</td>\n",
       "    </tr>\n",
       "    <tr>\n",
       "      <th>44980</th>\n",
       "      <td>The Python Mega Course: Build 10 Real World Ap...</td>\n",
       "      <td>2018-01-01 13:55:39+00:00</td>\n",
       "      <td>5.0</td>\n",
       "      <td>Very good instructor, lots of examples</td>\n",
       "    </tr>\n",
       "  </tbody>\n",
       "</table>\n",
       "<p>4927 rows × 4 columns</p>\n",
       "</div>"
      ],
      "text/plain": [
       "                                             Course Name  \\\n",
       "11     The Python Mega Course: Build 10 Real World Ap...   \n",
       "19     100 Python Exercises I: Evaluate and Improve Y...   \n",
       "22     The Python Mega Course: Build 10 Real World Ap...   \n",
       "60                    Python for Beginners with Examples   \n",
       "87     The Python Mega Course: Build 10 Real World Ap...   \n",
       "...                                                  ...   \n",
       "44947                 Python for Beginners with Examples   \n",
       "44951  The Python Mega Course: Build 10 Real World Ap...   \n",
       "44954                        Data Processing with Python   \n",
       "44957  The Python Mega Course: Build 10 Real World Ap...   \n",
       "44980  The Python Mega Course: Build 10 Real World Ap...   \n",
       "\n",
       "                       Timestamp  Rating  \\\n",
       "11     2021-04-01 15:25:18+00:00     5.0   \n",
       "19     2021-04-01 08:47:42+00:00     4.5   \n",
       "22     2021-04-01 05:47:51+00:00     5.0   \n",
       "60     2021-03-31 07:21:59+00:00     5.0   \n",
       "87     2021-03-30 07:43:37+00:00     4.5   \n",
       "...                          ...     ...   \n",
       "44947  2018-01-02 03:54:17+00:00     4.5   \n",
       "44951  2018-01-02 02:05:52+00:00     4.5   \n",
       "44954  2018-01-01 23:36:07+00:00     4.5   \n",
       "44957  2018-01-01 21:35:13+00:00     5.0   \n",
       "44980  2018-01-01 13:55:39+00:00     5.0   \n",
       "\n",
       "                                                 Comment  \n",
       "11                                                    No  \n",
       "19      Excellent set of practical problems.  Thank you!  \n",
       "22                                         Great course.  \n",
       "60                             really enjoying it so far  \n",
       "87              Well explained . Straight to the point !  \n",
       "...                                                  ...  \n",
       "44947  This course is amazing ! it teaches me very us...  \n",
       "44951         Clear, concise and compact modules so far.  \n",
       "44954    might have had a mac installation tutorial also  \n",
       "44957                          i like how thorough it is  \n",
       "44980             Very good instructor, lots of examples  \n",
       "\n",
       "[4927 rows x 4 columns]"
      ]
     },
     "execution_count": 37,
     "metadata": {},
     "output_type": "execute_result"
    }
   ],
   "source": [
    "data[(data[\"Rating\"]>4 )&(data['Comment'])]"
   ]
  },
  {
   "cell_type": "markdown",
   "id": "8ef4ee37",
   "metadata": {},
   "source": [
    "## 4.Time-based Filter"
   ]
  },
  {
   "cell_type": "code",
   "execution_count": 49,
   "id": "47a8d6b0",
   "metadata": {},
   "outputs": [
    {
     "data": {
      "text/html": [
       "<div>\n",
       "<style scoped>\n",
       "    .dataframe tbody tr th:only-of-type {\n",
       "        vertical-align: middle;\n",
       "    }\n",
       "\n",
       "    .dataframe tbody tr th {\n",
       "        vertical-align: top;\n",
       "    }\n",
       "\n",
       "    .dataframe thead th {\n",
       "        text-align: right;\n",
       "    }\n",
       "</style>\n",
       "<table border=\"1\" class=\"dataframe\">\n",
       "  <thead>\n",
       "    <tr style=\"text-align: right;\">\n",
       "      <th></th>\n",
       "      <th>Course Name</th>\n",
       "      <th>Timestamp</th>\n",
       "      <th>Rating</th>\n",
       "      <th>Comment</th>\n",
       "    </tr>\n",
       "  </thead>\n",
       "  <tbody>\n",
       "    <tr>\n",
       "      <th>3041</th>\n",
       "      <td>The Python Mega Course: Build 10 Real World Ap...</td>\n",
       "      <td>2020-12-31 23:42:21+00:00</td>\n",
       "      <td>5.0</td>\n",
       "      <td>NaN</td>\n",
       "    </tr>\n",
       "    <tr>\n",
       "      <th>3042</th>\n",
       "      <td>The Python Mega Course: Build 10 Real World Ap...</td>\n",
       "      <td>2020-12-31 23:25:08+00:00</td>\n",
       "      <td>4.0</td>\n",
       "      <td>NaN</td>\n",
       "    </tr>\n",
       "    <tr>\n",
       "      <th>3043</th>\n",
       "      <td>The Python Mega Course: Build 10 Real World Ap...</td>\n",
       "      <td>2020-12-31 20:44:52+00:00</td>\n",
       "      <td>4.0</td>\n",
       "      <td>NaN</td>\n",
       "    </tr>\n",
       "    <tr>\n",
       "      <th>3044</th>\n",
       "      <td>Data Processing with Python</td>\n",
       "      <td>2020-12-31 18:55:33+00:00</td>\n",
       "      <td>4.0</td>\n",
       "      <td>NaN</td>\n",
       "    </tr>\n",
       "    <tr>\n",
       "      <th>3045</th>\n",
       "      <td>The Python Mega Course: Build 10 Real World Ap...</td>\n",
       "      <td>2020-12-31 17:41:27+00:00</td>\n",
       "      <td>4.0</td>\n",
       "      <td>NaN</td>\n",
       "    </tr>\n",
       "    <tr>\n",
       "      <th>...</th>\n",
       "      <td>...</td>\n",
       "      <td>...</td>\n",
       "      <td>...</td>\n",
       "      <td>...</td>\n",
       "    </tr>\n",
       "    <tr>\n",
       "      <th>19621</th>\n",
       "      <td>The Python Mega Course: Build 10 Real World Ap...</td>\n",
       "      <td>2020-01-01 08:15:48+00:00</td>\n",
       "      <td>5.0</td>\n",
       "      <td>NaN</td>\n",
       "    </tr>\n",
       "    <tr>\n",
       "      <th>19622</th>\n",
       "      <td>The Python Mega Course: Build 10 Real World Ap...</td>\n",
       "      <td>2020-01-01 06:24:54+00:00</td>\n",
       "      <td>5.0</td>\n",
       "      <td>Clearly stated and simple</td>\n",
       "    </tr>\n",
       "    <tr>\n",
       "      <th>19623</th>\n",
       "      <td>Python for Beginners with Examples</td>\n",
       "      <td>2020-01-01 02:15:47+00:00</td>\n",
       "      <td>5.0</td>\n",
       "      <td>NaN</td>\n",
       "    </tr>\n",
       "    <tr>\n",
       "      <th>19624</th>\n",
       "      <td>The Python Mega Course: Build 10 Real World Ap...</td>\n",
       "      <td>2020-01-01 01:10:35+00:00</td>\n",
       "      <td>4.5</td>\n",
       "      <td>NaN</td>\n",
       "    </tr>\n",
       "    <tr>\n",
       "      <th>19625</th>\n",
       "      <td>The Python Mega Course: Build 10 Real World Ap...</td>\n",
       "      <td>2020-01-01 00:04:11+00:00</td>\n",
       "      <td>4.0</td>\n",
       "      <td>NaN</td>\n",
       "    </tr>\n",
       "  </tbody>\n",
       "</table>\n",
       "<p>16585 rows × 4 columns</p>\n",
       "</div>"
      ],
      "text/plain": [
       "                                             Course Name  \\\n",
       "3041   The Python Mega Course: Build 10 Real World Ap...   \n",
       "3042   The Python Mega Course: Build 10 Real World Ap...   \n",
       "3043   The Python Mega Course: Build 10 Real World Ap...   \n",
       "3044                         Data Processing with Python   \n",
       "3045   The Python Mega Course: Build 10 Real World Ap...   \n",
       "...                                                  ...   \n",
       "19621  The Python Mega Course: Build 10 Real World Ap...   \n",
       "19622  The Python Mega Course: Build 10 Real World Ap...   \n",
       "19623                 Python for Beginners with Examples   \n",
       "19624  The Python Mega Course: Build 10 Real World Ap...   \n",
       "19625  The Python Mega Course: Build 10 Real World Ap...   \n",
       "\n",
       "                      Timestamp  Rating                    Comment  \n",
       "3041  2020-12-31 23:42:21+00:00     5.0                        NaN  \n",
       "3042  2020-12-31 23:25:08+00:00     4.0                        NaN  \n",
       "3043  2020-12-31 20:44:52+00:00     4.0                        NaN  \n",
       "3044  2020-12-31 18:55:33+00:00     4.0                        NaN  \n",
       "3045  2020-12-31 17:41:27+00:00     4.0                        NaN  \n",
       "...                         ...     ...                        ...  \n",
       "19621 2020-01-01 08:15:48+00:00     5.0                        NaN  \n",
       "19622 2020-01-01 06:24:54+00:00     5.0  Clearly stated and simple  \n",
       "19623 2020-01-01 02:15:47+00:00     5.0                        NaN  \n",
       "19624 2020-01-01 01:10:35+00:00     4.5                        NaN  \n",
       "19625 2020-01-01 00:04:11+00:00     4.0                        NaN  \n",
       "\n",
       "[16585 rows x 4 columns]"
      ]
     },
     "execution_count": 49,
     "metadata": {},
     "output_type": "execute_result"
    }
   ],
   "source": [
    "data[(data[\"Timestamp\"] >= datetime(2020,1,1, tzinfo = utc)) & (data[\"Timestamp\"] <= datetime(2021,1,1, tzinfo=utc))]"
   ]
  },
  {
   "cell_type": "markdown",
   "id": "d78b5cb1",
   "metadata": {},
   "source": [
    "## 5. From data to infomation(Practice)"
   ]
  },
  {
   "cell_type": "markdown",
   "id": "74fd60a6",
   "metadata": {},
   "source": [
    "### Average of uncomment rating "
   ]
  },
  {
   "cell_type": "code",
   "execution_count": 55,
   "id": "02112fdc",
   "metadata": {},
   "outputs": [
    {
     "data": {
      "text/plain": [
       "4.433679746603492"
      ]
     },
     "execution_count": 55,
     "metadata": {},
     "output_type": "execute_result"
    }
   ],
   "source": [
    "data[data[\"Comment\"].isnull()][\"Rating\"].mean()"
   ]
  },
  {
   "cell_type": "markdown",
   "id": "d9f23d04",
   "metadata": {},
   "source": [
    "### Average of comment rating "
   ]
  },
  {
   "cell_type": "code",
   "execution_count": 56,
   "id": "bc091c66",
   "metadata": {},
   "outputs": [
    {
     "data": {
      "text/plain": [
       "4.489777908515959"
      ]
     },
     "execution_count": 56,
     "metadata": {},
     "output_type": "execute_result"
    }
   ],
   "source": [
    "data[data[\"Comment\"].notnull()][\"Rating\"].mean()"
   ]
  },
  {
   "cell_type": "markdown",
   "id": "41bb261b",
   "metadata": {},
   "source": [
    "### Number of comments containing Accent"
   ]
  },
  {
   "cell_type": "code",
   "execution_count": 57,
   "id": "18c94c35",
   "metadata": {},
   "outputs": [
    {
     "data": {
      "text/plain": [
       "77"
      ]
     },
     "execution_count": 57,
     "metadata": {},
     "output_type": "execute_result"
    }
   ],
   "source": [
    "data[data[\"Comment\"].str.contains(\"accent\",na=False)][\"Rating\"].count()"
   ]
  },
  {
   "cell_type": "markdown",
   "id": "a2f7653d",
   "metadata": {},
   "source": [
    "### Average of comments rating containing Accent"
   ]
  },
  {
   "cell_type": "code",
   "execution_count": 58,
   "id": "fe5fc88e",
   "metadata": {},
   "outputs": [
    {
     "data": {
      "text/plain": [
       "3.8636363636363638"
      ]
     },
     "execution_count": 58,
     "metadata": {},
     "output_type": "execute_result"
    }
   ],
   "source": [
    "data[data[\"Comment\"].str.contains(\"accent\",na=False)][\"Rating\"].mean()"
   ]
  }
 ],
 "metadata": {
  "kernelspec": {
   "display_name": "Python 3",
   "language": "python",
   "name": "python3"
  },
  "language_info": {
   "codemirror_mode": {
    "name": "ipython",
    "version": 3
   },
   "file_extension": ".py",
   "mimetype": "text/x-python",
   "name": "python",
   "nbconvert_exporter": "python",
   "pygments_lexer": "ipython3",
   "version": "3.9.2"
  }
 },
 "nbformat": 4,
 "nbformat_minor": 5
}
